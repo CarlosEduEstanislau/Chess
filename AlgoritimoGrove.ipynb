{
  "nbformat": 4,
  "nbformat_minor": 0,
  "metadata": {
    "colab": {
      "name": "AlgoritimoGrove.ipynb",
      "provenance": [],
      "collapsed_sections": [],
      "authorship_tag": "ABX9TyNYfgdA2uwpPwc4Iijlol3h",
      "include_colab_link": true
    },
    "kernelspec": {
      "name": "python3",
      "display_name": "Python 3"
    },
    "language_info": {
      "name": "python"
    }
  },
  "cells": [
    {
      "cell_type": "markdown",
      "metadata": {
        "id": "view-in-github",
        "colab_type": "text"
      },
      "source": [
        "<a href=\"https://colab.research.google.com/github/CarlosEduEstanislau/Chess/blob/main/AlgoritimoGrove.ipynb\" target=\"_parent\"><img src=\"https://colab.research.google.com/assets/colab-badge.svg\" alt=\"Open In Colab\"/></a>"
      ]
    },
    {
      "cell_type": "code",
      "execution_count": 2,
      "metadata": {
        "id": "gxKnVczpJrqo",
        "colab": {
          "base_uri": "https://localhost:8080/"
        },
        "outputId": "0e042b4e-84ec-4236-bb86-57121d6226ad"
      },
      "outputs": [
        {
          "output_type": "stream",
          "name": "stdout",
          "text": [
            "Looking in indexes: https://pypi.org/simple, https://us-python.pkg.dev/colab-wheels/public/simple/\n",
            "Collecting qiskit\n",
            "  Downloading qiskit-0.36.2.tar.gz (13 kB)\n",
            "Collecting qiskit-terra==0.20.2\n",
            "  Downloading qiskit_terra-0.20.2-cp37-cp37m-manylinux_2_17_x86_64.manylinux2014_x86_64.whl (6.5 MB)\n",
            "\u001b[K     |████████████████████████████████| 6.5 MB 4.8 MB/s \n",
            "\u001b[?25hCollecting qiskit-aer==0.10.4\n",
            "  Downloading qiskit_aer-0.10.4-cp37-cp37m-manylinux_2_12_x86_64.manylinux2010_x86_64.whl (18.0 MB)\n",
            "\u001b[K     |████████████████████████████████| 18.0 MB 33.1 MB/s \n",
            "\u001b[?25hCollecting qiskit-ibmq-provider==0.19.1\n",
            "  Downloading qiskit_ibmq_provider-0.19.1-py3-none-any.whl (240 kB)\n",
            "\u001b[K     |████████████████████████████████| 240 kB 52.4 MB/s \n",
            "\u001b[?25hCollecting qiskit-ignis==0.7.1\n",
            "  Downloading qiskit_ignis-0.7.1-py3-none-any.whl (198 kB)\n",
            "\u001b[K     |████████████████████████████████| 198 kB 38.0 MB/s \n",
            "\u001b[?25hRequirement already satisfied: scipy>=1.0 in /usr/local/lib/python3.7/dist-packages (from qiskit-aer==0.10.4->qiskit) (1.4.1)\n",
            "Requirement already satisfied: numpy>=1.16.3 in /usr/local/lib/python3.7/dist-packages (from qiskit-aer==0.10.4->qiskit) (1.21.6)\n",
            "Collecting websockets>=10.0\n",
            "  Downloading websockets-10.3-cp37-cp37m-manylinux_2_5_x86_64.manylinux1_x86_64.manylinux_2_12_x86_64.manylinux2010_x86_64.whl (112 kB)\n",
            "\u001b[K     |████████████████████████████████| 112 kB 53.4 MB/s \n",
            "\u001b[?25hCollecting requests-ntlm>=1.1.0\n",
            "  Downloading requests_ntlm-1.1.0-py2.py3-none-any.whl (5.7 kB)\n",
            "Requirement already satisfied: urllib3>=1.21.1 in /usr/local/lib/python3.7/dist-packages (from qiskit-ibmq-provider==0.19.1->qiskit) (1.24.3)\n",
            "Requirement already satisfied: requests>=2.19 in /usr/local/lib/python3.7/dist-packages (from qiskit-ibmq-provider==0.19.1->qiskit) (2.23.0)\n",
            "Collecting websocket-client>=1.0.1\n",
            "  Downloading websocket_client-1.3.2-py3-none-any.whl (54 kB)\n",
            "\u001b[K     |████████████████████████████████| 54 kB 2.8 MB/s \n",
            "\u001b[?25hRequirement already satisfied: python-dateutil>=2.8.0 in /usr/local/lib/python3.7/dist-packages (from qiskit-ibmq-provider==0.19.1->qiskit) (2.8.2)\n",
            "Collecting retworkx>=0.8.0\n",
            "  Downloading retworkx-0.11.0-cp37-cp37m-manylinux_2_5_x86_64.manylinux1_x86_64.manylinux_2_12_x86_64.manylinux2010_x86_64.whl (1.6 MB)\n",
            "\u001b[K     |████████████████████████████████| 1.6 MB 33.4 MB/s \n",
            "\u001b[?25hRequirement already satisfied: setuptools>=40.1.0 in /usr/local/lib/python3.7/dist-packages (from qiskit-ignis==0.7.1->qiskit) (57.4.0)\n",
            "Collecting python-constraint>=1.4\n",
            "  Downloading python-constraint-1.4.0.tar.bz2 (18 kB)\n",
            "Collecting scipy>=1.0\n",
            "  Downloading scipy-1.7.3-cp37-cp37m-manylinux_2_12_x86_64.manylinux2010_x86_64.whl (38.1 MB)\n",
            "\u001b[K     |████████████████████████████████| 38.1 MB 1.3 MB/s \n",
            "\u001b[?25hCollecting tweedledum<2.0,>=1.1\n",
            "  Downloading tweedledum-1.1.1-cp37-cp37m-manylinux_2_12_x86_64.manylinux2010_x86_64.whl (943 kB)\n",
            "\u001b[K     |████████████████████████████████| 943 kB 52.2 MB/s \n",
            "\u001b[?25hRequirement already satisfied: dill>=0.3 in /usr/local/lib/python3.7/dist-packages (from qiskit-terra==0.20.2->qiskit) (0.3.5.1)\n",
            "Requirement already satisfied: sympy>=1.3 in /usr/local/lib/python3.7/dist-packages (from qiskit-terra==0.20.2->qiskit) (1.7.1)\n",
            "Collecting ply>=3.10\n",
            "  Downloading ply-3.11-py2.py3-none-any.whl (49 kB)\n",
            "\u001b[K     |████████████████████████████████| 49 kB 4.9 MB/s \n",
            "\u001b[?25hCollecting symengine>=0.9\n",
            "  Downloading symengine-0.9.2-cp37-cp37m-manylinux2010_x86_64.whl (37.5 MB)\n",
            "\u001b[K     |████████████████████████████████| 37.5 MB 1.2 MB/s \n",
            "\u001b[?25hCollecting stevedore>=3.0.0\n",
            "  Downloading stevedore-3.5.0-py3-none-any.whl (49 kB)\n",
            "\u001b[K     |████████████████████████████████| 49 kB 5.5 MB/s \n",
            "\u001b[?25hRequirement already satisfied: psutil>=5 in /usr/local/lib/python3.7/dist-packages (from qiskit-terra==0.20.2->qiskit) (5.4.8)\n",
            "Requirement already satisfied: six>=1.5 in /usr/local/lib/python3.7/dist-packages (from python-dateutil>=2.8.0->qiskit-ibmq-provider==0.19.1->qiskit) (1.15.0)\n",
            "Requirement already satisfied: certifi>=2017.4.17 in /usr/local/lib/python3.7/dist-packages (from requests>=2.19->qiskit-ibmq-provider==0.19.1->qiskit) (2022.5.18.1)\n",
            "Requirement already satisfied: idna<3,>=2.5 in /usr/local/lib/python3.7/dist-packages (from requests>=2.19->qiskit-ibmq-provider==0.19.1->qiskit) (2.10)\n",
            "Requirement already satisfied: chardet<4,>=3.0.2 in /usr/local/lib/python3.7/dist-packages (from requests>=2.19->qiskit-ibmq-provider==0.19.1->qiskit) (3.0.4)\n",
            "Collecting cryptography>=1.3\n",
            "  Downloading cryptography-37.0.2-cp36-abi3-manylinux_2_24_x86_64.whl (4.0 MB)\n",
            "\u001b[K     |████████████████████████████████| 4.0 MB 42.0 MB/s \n",
            "\u001b[?25hCollecting ntlm-auth>=1.0.2\n",
            "  Downloading ntlm_auth-1.5.0-py2.py3-none-any.whl (29 kB)\n",
            "Requirement already satisfied: cffi>=1.12 in /usr/local/lib/python3.7/dist-packages (from cryptography>=1.3->requests-ntlm>=1.1.0->qiskit-ibmq-provider==0.19.1->qiskit) (1.15.0)\n",
            "Requirement already satisfied: pycparser in /usr/local/lib/python3.7/dist-packages (from cffi>=1.12->cryptography>=1.3->requests-ntlm>=1.1.0->qiskit-ibmq-provider==0.19.1->qiskit) (2.21)\n",
            "Collecting pbr!=2.1.0,>=2.0.0\n",
            "  Downloading pbr-5.9.0-py2.py3-none-any.whl (112 kB)\n",
            "\u001b[K     |████████████████████████████████| 112 kB 48.8 MB/s \n",
            "\u001b[?25hRequirement already satisfied: importlib-metadata>=1.7.0 in /usr/local/lib/python3.7/dist-packages (from stevedore>=3.0.0->qiskit-terra==0.20.2->qiskit) (4.11.4)\n",
            "Requirement already satisfied: zipp>=0.5 in /usr/local/lib/python3.7/dist-packages (from importlib-metadata>=1.7.0->stevedore>=3.0.0->qiskit-terra==0.20.2->qiskit) (3.8.0)\n",
            "Requirement already satisfied: typing-extensions>=3.6.4 in /usr/local/lib/python3.7/dist-packages (from importlib-metadata>=1.7.0->stevedore>=3.0.0->qiskit-terra==0.20.2->qiskit) (4.2.0)\n",
            "Requirement already satisfied: mpmath>=0.19 in /usr/local/lib/python3.7/dist-packages (from sympy>=1.3->qiskit-terra==0.20.2->qiskit) (1.2.1)\n",
            "Building wheels for collected packages: qiskit, python-constraint\n",
            "  Building wheel for qiskit (setup.py) ... \u001b[?25l\u001b[?25hdone\n",
            "  Created wheel for qiskit: filename=qiskit-0.36.2-py3-none-any.whl size=11933 sha256=55b49335baf23c7e442e615ce2ef21ad79fd6b616eeb75a741a6dc33c85c9054\n",
            "  Stored in directory: /root/.cache/pip/wheels/36/f7/83/e2755ad17aa35bc145fce34e184aaf394a265a978d95caaabf\n",
            "  Building wheel for python-constraint (setup.py) ... \u001b[?25l\u001b[?25hdone\n",
            "  Created wheel for python-constraint: filename=python_constraint-1.4.0-py2.py3-none-any.whl size=24081 sha256=e1de82989e9fd46d189f67935fe1de329c6a5890e7fc263ab62ed210a5cfbe6c\n",
            "  Stored in directory: /root/.cache/pip/wheels/07/27/db/1222c80eb1e431f3d2199c12569cb1cac60f562a451fe30479\n",
            "Successfully built qiskit python-constraint\n",
            "Installing collected packages: pbr, tweedledum, symengine, stevedore, scipy, retworkx, python-constraint, ply, ntlm-auth, cryptography, websockets, websocket-client, requests-ntlm, qiskit-terra, qiskit-ignis, qiskit-ibmq-provider, qiskit-aer, qiskit\n",
            "  Attempting uninstall: scipy\n",
            "    Found existing installation: scipy 1.4.1\n",
            "    Uninstalling scipy-1.4.1:\n",
            "      Successfully uninstalled scipy-1.4.1\n",
            "\u001b[31mERROR: pip's dependency resolver does not currently take into account all the packages that are installed. This behaviour is the source of the following dependency conflicts.\n",
            "albumentations 0.1.12 requires imgaug<0.2.7,>=0.2.5, but you have imgaug 0.2.9 which is incompatible.\u001b[0m\n",
            "Successfully installed cryptography-37.0.2 ntlm-auth-1.5.0 pbr-5.9.0 ply-3.11 python-constraint-1.4.0 qiskit-0.36.2 qiskit-aer-0.10.4 qiskit-ibmq-provider-0.19.1 qiskit-ignis-0.7.1 qiskit-terra-0.20.2 requests-ntlm-1.1.0 retworkx-0.11.0 scipy-1.7.3 stevedore-3.5.0 symengine-0.9.2 tweedledum-1.1.1 websocket-client-1.3.2 websockets-10.3\n"
          ]
        }
      ],
      "source": [
        "pip install qiskit\n"
      ]
    },
    {
      "cell_type": "code",
      "source": [
        "#initialization\n",
        "import matplotlib.pyplot as plt\n",
        "import numpy as np\n",
        "\n",
        "# importing Qiskit\n",
        "from qiskit import IBMQ, Aer, assemble, transpile\n",
        "from qiskit import QuantumCircuit, ClassicalRegister, QuantumRegister\n",
        "\n",
        "# import basic plot tools\n",
        "from qiskit.visualization import plot_histogram"
      ],
      "metadata": {
        "id": "2NC_56rjMrGc"
      },
      "execution_count": 3,
      "outputs": []
    },
    {
      "cell_type": "code",
      "source": [
        "#Aqui estou definindo algumas variaveis que vou precisar\n",
        "var_qubits = QuantumRegister(4, name='v') #Definindo 4 registros quaticos para as variaveis\n",
        "qubitsDeCondicao = QuantumRegister(4, name='c') #Definindo 4 registros quantisco para condição\n",
        "qubitSaida = QuantumRegister(1, name='saida') #Definindo 1 restistro quantico para a saida\n",
        "cbits = ClassicalRegister(4, name='cbits') #Definindo 4 registros classicos\n",
        "cq = QuantumCircuit(var_qubits, qubitsDeCondicao, qubitSaida, cbits) #Aqui estou definindo meu circuito quantico\n"
      ],
      "metadata": {
        "id": "OvHARr_sPO0U"
      },
      "execution_count": 4,
      "outputs": []
    },
    {
      "cell_type": "code",
      "source": [
        "# Aqui vamos criar um difusor generico para utilizar no nosso problema.\n",
        "def diffuser(nqubits):\n",
        "    cq = QuantumCircuit(nqubits)\n",
        "    # Aplicando o Haddamard para sair de |s> -> para |0000>\n",
        "    for qubit in range(nqubits):\n",
        "        cq.h(qubit)\n",
        "    # Aplicando paulinX para transformar de |00..0> -> |11..1> (X-gates)\n",
        "    for qubit in range(nqubits):\n",
        "        cq.x(qubit)\n",
        "    # Aplicando MCZ\n",
        "    cq.h(nqubits-1)\n",
        "    cq.mct(list(range(nqubits-1)), nqubits-1)  # multi-controlled-toffoli\n",
        "    cq.h(nqubits-1)\n",
        "    # Re-aplicando PaulinX\n",
        "    for qubit in range(nqubits):\n",
        "        cq.x(qubit)\n",
        "    # Retornando ao estado |s>\n",
        "    for qubit in range(nqubits):\n",
        "        cq.h(qubit)\n",
        "    # Vamos retornar o diffuser como uma porta\n",
        "    U_s = cq.to_gate()\n",
        "    U_s.name = \"U$_s$\"\n",
        "    return U_s"
      ],
      "metadata": {
        "id": "1JohqFeQJvkk"
      },
      "execution_count": 5,
      "outputs": []
    },
    {
      "cell_type": "code",
      "source": [
        "#Agora vamos definir a função XOR usada para comparar nossas entrdas e saidas\n",
        "def XOR(cq, a, b, saida):\n",
        "    #Estou aplicando o PaulinX controlado nas para sempre obter o valor que quero quando as duas entradas forem iguais\n",
        "    cq.cx(a, saida)\n",
        "    cq.cx(b, saida) "
      ],
      "metadata": {
        "id": "WUrMmMvdN-31"
      },
      "execution_count": 6,
      "outputs": []
    },
    {
      "cell_type": "code",
      "source": [
        "#Agora vou criar uma lista com a coluna e a linha que tenho que testar \n",
        "listaDeCondicoes = [[0,1],[0,2],[1,3],[2,3]]"
      ],
      "metadata": {
        "id": "xvgAF6pyOgyc"
      },
      "execution_count": 7,
      "outputs": []
    },
    {
      "cell_type": "code",
      "source": [
        "# Criaremos agora o algoritimo oraculo do Jogo de sudoku\n",
        "def sudoku_oracle(cq, listaDeCondicoes,qubitsDeCondicao):\n",
        "    # Avaliando as condições\n",
        "    i = 0\n",
        "    for condicoes in listaDeCondicoes:\n",
        "        XOR(cq, condicoes[0], condicoes[1], qubitsDeCondicao[i])\n",
        "        i += 1\n",
        "\n",
        "    # Flipa todos os qubits caso as condições sejam satisfeitas\n",
        "    cq.mct(qubitsDeCondicao, qubitSaida)\n",
        "\n",
        "    # Resetando a lista de condições e os qubits de condições\n",
        "    i = 0\n",
        "    for condicoes in listaDeCondicoes:\n",
        "        XOR(cq, condicoes[0], condicoes[1], qubitsDeCondicao[i])\n",
        "        i += 1\n",
        "\n",
        "sudoku_oracle(cq, listaDeCondicoes,qubitsDeCondicao)\n",
        "cq.draw()"
      ],
      "metadata": {
        "colab": {
          "base_uri": "https://localhost:8080/",
          "height": 663
        },
        "id": "IgniUkUfO80N",
        "outputId": "63b37e8e-0144-4286-c904-0355bae0009f"
      },
      "execution_count": 8,
      "outputs": [
        {
          "output_type": "execute_result",
          "data": {
            "text/plain": [
              "                                                                               »\n",
              "    v_0: ──■─────────■──────────────────────────────────■─────────■────────────»\n",
              "           │         │                                  │         │            »\n",
              "    v_1: ──┼────■────┼─────────■────────────────────────┼────■────┼─────────■──»\n",
              "           │    │    │         │                        │    │    │         │  »\n",
              "    v_2: ──┼────┼────┼────■────┼─────────■──────────────┼────┼────┼────■────┼──»\n",
              "           │    │    │    │    │         │              │    │    │    │    │  »\n",
              "    v_3: ──┼────┼────┼────┼────┼────■────┼────■─────────┼────┼────┼────┼────┼──»\n",
              "         ┌─┴─┐┌─┴─┐  │    │    │    │    │    │       ┌─┴─┐┌─┴─┐  │    │    │  »\n",
              "    c_0: ┤ X ├┤ X ├──┼────┼────┼────┼────┼────┼────■──┤ X ├┤ X ├──┼────┼────┼──»\n",
              "         └───┘└───┘┌─┴─┐┌─┴─┐  │    │    │    │    │  └───┘└───┘┌─┴─┐┌─┴─┐  │  »\n",
              "    c_1: ──────────┤ X ├┤ X ├──┼────┼────┼────┼────■────────────┤ X ├┤ X ├──┼──»\n",
              "                   └───┘└───┘┌─┴─┐┌─┴─┐  │    │    │            └───┘└───┘┌─┴─┐»\n",
              "    c_2: ────────────────────┤ X ├┤ X ├──┼────┼────■──────────────────────┤ X ├»\n",
              "                             └───┘└───┘┌─┴─┐┌─┴─┐  │                      └───┘»\n",
              "    c_3: ──────────────────────────────┤ X ├┤ X ├──■───────────────────────────»\n",
              "                                       └───┘└───┘┌─┴─┐                         »\n",
              "  saida: ────────────────────────────────────────┤ X ├─────────────────────────»\n",
              "                                                 └───┘                         »\n",
              "cbits: 4/══════════════════════════════════════════════════════════════════════»\n",
              "                                                                               »\n",
              "«                        \n",
              "«    v_0: ───────────────\n",
              "«                        \n",
              "«    v_1: ───────────────\n",
              "«                        \n",
              "«    v_2: ───────■───────\n",
              "«                │       \n",
              "«    v_3: ──■────┼────■──\n",
              "«           │    │    │  \n",
              "«    c_0: ──┼────┼────┼──\n",
              "«           │    │    │  \n",
              "«    c_1: ──┼────┼────┼──\n",
              "«         ┌─┴─┐  │    │  \n",
              "«    c_2: ┤ X ├──┼────┼──\n",
              "«         └───┘┌─┴─┐┌─┴─┐\n",
              "«    c_3: ─────┤ X ├┤ X ├\n",
              "«              └───┘└───┘\n",
              "«  saida: ───────────────\n",
              "«                        \n",
              "«cbits: 4/═══════════════\n",
              "«                        "
            ],
            "text/html": [
              "<pre style=\"word-wrap: normal;white-space: pre;background: #fff0;line-height: 1.1;font-family: &quot;Courier New&quot;,Courier,monospace\">                                                                               »\n",
              "    v_0: ──■─────────■──────────────────────────────────■─────────■────────────»\n",
              "           │         │                                  │         │            »\n",
              "    v_1: ──┼────■────┼─────────■────────────────────────┼────■────┼─────────■──»\n",
              "           │    │    │         │                        │    │    │         │  »\n",
              "    v_2: ──┼────┼────┼────■────┼─────────■──────────────┼────┼────┼────■────┼──»\n",
              "           │    │    │    │    │         │              │    │    │    │    │  »\n",
              "    v_3: ──┼────┼────┼────┼────┼────■────┼────■─────────┼────┼────┼────┼────┼──»\n",
              "         ┌─┴─┐┌─┴─┐  │    │    │    │    │    │       ┌─┴─┐┌─┴─┐  │    │    │  »\n",
              "    c_0: ┤ X ├┤ X ├──┼────┼────┼────┼────┼────┼────■──┤ X ├┤ X ├──┼────┼────┼──»\n",
              "         └───┘└───┘┌─┴─┐┌─┴─┐  │    │    │    │    │  └───┘└───┘┌─┴─┐┌─┴─┐  │  »\n",
              "    c_1: ──────────┤ X ├┤ X ├──┼────┼────┼────┼────■────────────┤ X ├┤ X ├──┼──»\n",
              "                   └───┘└───┘┌─┴─┐┌─┴─┐  │    │    │            └───┘└───┘┌─┴─┐»\n",
              "    c_2: ────────────────────┤ X ├┤ X ├──┼────┼────■──────────────────────┤ X ├»\n",
              "                             └───┘└───┘┌─┴─┐┌─┴─┐  │                      └───┘»\n",
              "    c_3: ──────────────────────────────┤ X ├┤ X ├──■───────────────────────────»\n",
              "                                       └───┘└───┘┌─┴─┐                         »\n",
              "  saida: ────────────────────────────────────────┤ X ├─────────────────────────»\n",
              "                                                 └───┘                         »\n",
              "cbits: 4/══════════════════════════════════════════════════════════════════════»\n",
              "                                                                               »\n",
              "«                        \n",
              "«    v_0: ───────────────\n",
              "«                        \n",
              "«    v_1: ───────────────\n",
              "«                        \n",
              "«    v_2: ───────■───────\n",
              "«                │       \n",
              "«    v_3: ──■────┼────■──\n",
              "«           │    │    │  \n",
              "«    c_0: ──┼────┼────┼──\n",
              "«           │    │    │  \n",
              "«    c_1: ──┼────┼────┼──\n",
              "«         ┌─┴─┐  │    │  \n",
              "«    c_2: ┤ X ├──┼────┼──\n",
              "«         └───┘┌─┴─┐┌─┴─┐\n",
              "«    c_3: ─────┤ X ├┤ X ├\n",
              "«              └───┘└───┘\n",
              "«  saida: ───────────────\n",
              "«                        \n",
              "«cbits: 4/═══════════════\n",
              "«                        </pre>"
            ]
          },
          "metadata": {},
          "execution_count": 8
        }
      ]
    },
    {
      "cell_type": "code",
      "source": [
        "#Agora vamos implementar nosso circuito comploeto \n",
        "\n",
        "# Inicializando a saida0 no estado |->\n",
        "cq.initialize([1, -1]/np.sqrt(2), qubitSaida)\n",
        "\n",
        "# Colocando todos os qubits de variaveis no estado |s>\n",
        "cq.h(var_qubits)\n",
        "cq.barrier()  # Separação visual\n",
        "\n",
        "##Primeira interação\n",
        "# Aplicando o oraculo\n",
        "sudoku_oracle(cq, listaDeCondicoes, qubitsDeCondicao)\n",
        "cq.barrier()  # Separação visual\n",
        "#Aplicando nosso diffuser\n",
        "cq.append(diffuser(4), [0,1,2,3])\n",
        "\n",
        "## Segunda interação\n",
        "sudoku_oracle(cq, listaDeCondicoes, qubitsDeCondicao)\n",
        "cq.barrier()  # Separação visual\n",
        "#Aplicando nosso diffuser\n",
        "cq.append(diffuser(4), [0,1,2,3])\n",
        "\n",
        "# Medindo os qubits variaveis\n",
        "cq.measure(var_qubits, cbits)\n",
        "\n",
        "cq.draw(fold=-1)"
      ],
      "metadata": {
        "colab": {
          "base_uri": "https://localhost:8080/",
          "height": 360
        },
        "id": "crtGWU0OR2Zl",
        "outputId": "5c8a9624-fbc5-4393-c319-6b53351aa5bb"
      },
      "execution_count": 9,
      "outputs": [
        {
          "output_type": "execute_result",
          "data": {
            "text/plain": [
              "                                                                                                ┌───┐                          ░                                                                                       ░ ┌────────┐                                                                                      ░ ┌────────┐┌─┐         \n",
              "    v_0: ──■─────────■───────────────────────────────────────────────■───────────────────────■──┤ H ├──────────────────────────░───■─────────■──────────────────────────────────■─────────■────────────────────────────░─┤0       ├──■─────────■──────────────────────────────────■─────────■────────────────────────────░─┤0       ├┤M├─────────\n",
              "           │         │                                               │                       │  └───┘     ┌───┐                ░   │         │                                  │         │                            ░ │        │  │         │                                  │         │                            ░ │        │└╥┘┌─┐      \n",
              "    v_1: ──┼────■────┼─────────■─────────────────────────────────────┼──────────────────■────┼─────────■──┤ H ├────────────────░───┼────■────┼─────────■────────────────────────┼────■────┼─────────■──────────────────░─┤1       ├──┼────■────┼─────────■────────────────────────┼────■────┼─────────■──────────────────░─┤1       ├─╫─┤M├──────\n",
              "           │    │    │         │                                     │                  │    │         │  └───┘     ┌───┐      ░   │    │    │         │                        │    │    │         │                  ░ │  U$_s$ │  │    │    │         │                        │    │    │         │                  ░ │  U$_s$ │ ║ └╥┘┌─┐   \n",
              "    v_2: ──┼────┼────┼────■────┼─────────■───────────────────────────┼──────────────────┼────┼────■────┼─────────■──┤ H ├──────░───┼────┼────┼────■────┼─────────■──────────────┼────┼────┼────■────┼─────────■────────░─┤2       ├──┼────┼────┼────■────┼─────────■──────────────┼────┼────┼────■────┼─────────■────────░─┤2       ├─╫──╫─┤M├───\n",
              "           │    │    │    │    │         │                           │                  │    │    │    │         │  └───┘┌───┐ ░   │    │    │    │    │         │              │    │    │    │    │         │        ░ │        │  │    │    │    │    │         │              │    │    │    │    │         │        ░ │        │ ║  ║ └╥┘┌─┐\n",
              "    v_3: ──┼────┼────┼────┼────┼────■────┼────■──────────────────────┼──────────────────┼────┼────┼────┼────■────┼────■──┤ H ├─░───┼────┼────┼────┼────┼────■────┼────■─────────┼────┼────┼────┼────┼────■────┼────■───░─┤3       ├──┼────┼────┼────┼────┼────■────┼────■─────────┼────┼────┼────┼────┼────■────┼────■───░─┤3       ├─╫──╫──╫─┤M├\n",
              "         ┌─┴─┐┌─┴─┐  │    │    │    │    │    │                    ┌─┴─┐              ┌─┴─┐  │    │    │    │    │    │  └───┘ ░ ┌─┴─┐┌─┴─┐  │    │    │    │    │    │       ┌─┴─┐┌─┴─┐  │    │    │    │    │    │   ░ └────────┘┌─┴─┐┌─┴─┐  │    │    │    │    │    │       ┌─┴─┐┌─┴─┐  │    │    │    │    │    │   ░ └────────┘ ║  ║  ║ └╥┘\n",
              "    c_0: ┤ X ├┤ X ├──┼────┼────┼────┼────┼────┼────■───────────────┤ X ├──────────────┤ X ├──┼────┼────┼────┼────┼────┼────────░─┤ X ├┤ X ├──┼────┼────┼────┼────┼────┼────■──┤ X ├┤ X ├──┼────┼────┼────┼────┼────┼───░───────────┤ X ├┤ X ├──┼────┼────┼────┼────┼────┼────■──┤ X ├┤ X ├──┼────┼────┼────┼────┼────┼───░────────────╫──╫──╫──╫─\n",
              "         └───┘└───┘┌─┴─┐┌─┴─┐  │    │    │    │    │               └───┘              └───┘┌─┴─┐┌─┴─┐  │    │    │    │        ░ └───┘└───┘┌─┴─┐┌─┴─┐  │    │    │    │    │  └───┘└───┘┌─┴─┐┌─┴─┐  │    │    │    │   ░           └───┘└───┘┌─┴─┐┌─┴─┐  │    │    │    │    │  └───┘└───┘┌─┴─┐┌─┴─┐  │    │    │    │   ░            ║  ║  ║  ║ \n",
              "    c_1: ──────────┤ X ├┤ X ├──┼────┼────┼────┼────■───────────────────────────────────────┤ X ├┤ X ├──┼────┼────┼────┼────────░───────────┤ X ├┤ X ├──┼────┼────┼────┼────■────────────┤ X ├┤ X ├──┼────┼────┼────┼───░─────────────────────┤ X ├┤ X ├──┼────┼────┼────┼────■────────────┤ X ├┤ X ├──┼────┼────┼────┼───░────────────╫──╫──╫──╫─\n",
              "                   └───┘└───┘┌─┴─┐┌─┴─┐  │    │    │                                       └───┘└───┘┌─┴─┐┌─┴─┐  │    │        ░           └───┘└───┘┌─┴─┐┌─┴─┐  │    │    │            └───┘└───┘┌─┴─┐┌─┴─┐  │    │   ░                     └───┘└───┘┌─┴─┐┌─┴─┐  │    │    │            └───┘└───┘┌─┴─┐┌─┴─┐  │    │   ░            ║  ║  ║  ║ \n",
              "    c_2: ────────────────────┤ X ├┤ X ├──┼────┼────■─────────────────────────────────────────────────┤ X ├┤ X ├──┼────┼────────░─────────────────────┤ X ├┤ X ├──┼────┼────■──────────────────────┤ X ├┤ X ├──┼────┼───░───────────────────────────────┤ X ├┤ X ├──┼────┼────■──────────────────────┤ X ├┤ X ├──┼────┼───░────────────╫──╫──╫──╫─\n",
              "                             └───┘└───┘┌─┴─┐┌─┴─┐  │                                                 └───┘└───┘┌─┴─┐┌─┴─┐      ░                     └───┘└───┘┌─┴─┐┌─┴─┐  │                      └───┘└───┘┌─┴─┐┌─┴─┐ ░                               └───┘└───┘┌─┴─┐┌─┴─┐  │                      └───┘└───┘┌─┴─┐┌─┴─┐ ░            ║  ║  ║  ║ \n",
              "    c_3: ──────────────────────────────┤ X ├┤ X ├──■───────────────────────────────────────────────────────────┤ X ├┤ X ├──────░───────────────────────────────┤ X ├┤ X ├──■────────────────────────────────┤ X ├┤ X ├─░─────────────────────────────────────────┤ X ├┤ X ├──■────────────────────────────────┤ X ├┤ X ├─░────────────╫──╫──╫──╫─\n",
              "                                       └───┘└───┘┌─┴─┐┌──────────────────────────────┐                         └───┘└───┘      ░                               └───┘└───┘┌─┴─┐                              └───┘└───┘ ░                                         └───┘└───┘┌─┴─┐                              └───┘└───┘ ░            ║  ║  ║  ║ \n",
              "  saida: ────────────────────────────────────────┤ X ├┤ Initialize(0.70711,-0.70711) ├─────────────────────────────────────────░─────────────────────────────────────────┤ X ├─────────────────────────────────────────░───────────────────────────────────────────────────┤ X ├─────────────────────────────────────────░────────────╫──╫──╫──╫─\n",
              "                                                 └───┘└──────────────────────────────┘                                         ░                                         └───┘                                         ░                                                   └───┘                                         ░            ║  ║  ║  ║ \n",
              "cbits: 4/═════════════════════════════════════════════════════════════════════════════════════════════════════════════════════════════════════════════════════════════════════════════════════════════════════════════════════════════════════════════════════════════════════════════════════════════════════════════════════════════╩══╩══╩══╩═\n",
              "                                                                                                                                                                                                                                                                                                                                      0  1  2  3 "
            ],
            "text/html": [
              "<pre style=\"word-wrap: normal;white-space: pre;background: #fff0;line-height: 1.1;font-family: &quot;Courier New&quot;,Courier,monospace\">                                                                                                ┌───┐                          ░                                                                                       ░ ┌────────┐                                                                                      ░ ┌────────┐┌─┐         \n",
              "    v_0: ──■─────────■───────────────────────────────────────────────■───────────────────────■──┤ H ├──────────────────────────░───■─────────■──────────────────────────────────■─────────■────────────────────────────░─┤0       ├──■─────────■──────────────────────────────────■─────────■────────────────────────────░─┤0       ├┤M├─────────\n",
              "           │         │                                               │                       │  └───┘     ┌───┐                ░   │         │                                  │         │                            ░ │        │  │         │                                  │         │                            ░ │        │└╥┘┌─┐      \n",
              "    v_1: ──┼────■────┼─────────■─────────────────────────────────────┼──────────────────■────┼─────────■──┤ H ├────────────────░───┼────■────┼─────────■────────────────────────┼────■────┼─────────■──────────────────░─┤1       ├──┼────■────┼─────────■────────────────────────┼────■────┼─────────■──────────────────░─┤1       ├─╫─┤M├──────\n",
              "           │    │    │         │                                     │                  │    │         │  └───┘     ┌───┐      ░   │    │    │         │                        │    │    │         │                  ░ │  U$_s$ │  │    │    │         │                        │    │    │         │                  ░ │  U$_s$ │ ║ └╥┘┌─┐   \n",
              "    v_2: ──┼────┼────┼────■────┼─────────■───────────────────────────┼──────────────────┼────┼────■────┼─────────■──┤ H ├──────░───┼────┼────┼────■────┼─────────■──────────────┼────┼────┼────■────┼─────────■────────░─┤2       ├──┼────┼────┼────■────┼─────────■──────────────┼────┼────┼────■────┼─────────■────────░─┤2       ├─╫──╫─┤M├───\n",
              "           │    │    │    │    │         │                           │                  │    │    │    │         │  └───┘┌───┐ ░   │    │    │    │    │         │              │    │    │    │    │         │        ░ │        │  │    │    │    │    │         │              │    │    │    │    │         │        ░ │        │ ║  ║ └╥┘┌─┐\n",
              "    v_3: ──┼────┼────┼────┼────┼────■────┼────■──────────────────────┼──────────────────┼────┼────┼────┼────■────┼────■──┤ H ├─░───┼────┼────┼────┼────┼────■────┼────■─────────┼────┼────┼────┼────┼────■────┼────■───░─┤3       ├──┼────┼────┼────┼────┼────■────┼────■─────────┼────┼────┼────┼────┼────■────┼────■───░─┤3       ├─╫──╫──╫─┤M├\n",
              "         ┌─┴─┐┌─┴─┐  │    │    │    │    │    │                    ┌─┴─┐              ┌─┴─┐  │    │    │    │    │    │  └───┘ ░ ┌─┴─┐┌─┴─┐  │    │    │    │    │    │       ┌─┴─┐┌─┴─┐  │    │    │    │    │    │   ░ └────────┘┌─┴─┐┌─┴─┐  │    │    │    │    │    │       ┌─┴─┐┌─┴─┐  │    │    │    │    │    │   ░ └────────┘ ║  ║  ║ └╥┘\n",
              "    c_0: ┤ X ├┤ X ├──┼────┼────┼────┼────┼────┼────■───────────────┤ X ├──────────────┤ X ├──┼────┼────┼────┼────┼────┼────────░─┤ X ├┤ X ├──┼────┼────┼────┼────┼────┼────■──┤ X ├┤ X ├──┼────┼────┼────┼────┼────┼───░───────────┤ X ├┤ X ├──┼────┼────┼────┼────┼────┼────■──┤ X ├┤ X ├──┼────┼────┼────┼────┼────┼───░────────────╫──╫──╫──╫─\n",
              "         └───┘└───┘┌─┴─┐┌─┴─┐  │    │    │    │    │               └───┘              └───┘┌─┴─┐┌─┴─┐  │    │    │    │        ░ └───┘└───┘┌─┴─┐┌─┴─┐  │    │    │    │    │  └───┘└───┘┌─┴─┐┌─┴─┐  │    │    │    │   ░           └───┘└───┘┌─┴─┐┌─┴─┐  │    │    │    │    │  └───┘└───┘┌─┴─┐┌─┴─┐  │    │    │    │   ░            ║  ║  ║  ║ \n",
              "    c_1: ──────────┤ X ├┤ X ├──┼────┼────┼────┼────■───────────────────────────────────────┤ X ├┤ X ├──┼────┼────┼────┼────────░───────────┤ X ├┤ X ├──┼────┼────┼────┼────■────────────┤ X ├┤ X ├──┼────┼────┼────┼───░─────────────────────┤ X ├┤ X ├──┼────┼────┼────┼────■────────────┤ X ├┤ X ├──┼────┼────┼────┼───░────────────╫──╫──╫──╫─\n",
              "                   └───┘└───┘┌─┴─┐┌─┴─┐  │    │    │                                       └───┘└───┘┌─┴─┐┌─┴─┐  │    │        ░           └───┘└───┘┌─┴─┐┌─┴─┐  │    │    │            └───┘└───┘┌─┴─┐┌─┴─┐  │    │   ░                     └───┘└───┘┌─┴─┐┌─┴─┐  │    │    │            └───┘└───┘┌─┴─┐┌─┴─┐  │    │   ░            ║  ║  ║  ║ \n",
              "    c_2: ────────────────────┤ X ├┤ X ├──┼────┼────■─────────────────────────────────────────────────┤ X ├┤ X ├──┼────┼────────░─────────────────────┤ X ├┤ X ├──┼────┼────■──────────────────────┤ X ├┤ X ├──┼────┼───░───────────────────────────────┤ X ├┤ X ├──┼────┼────■──────────────────────┤ X ├┤ X ├──┼────┼───░────────────╫──╫──╫──╫─\n",
              "                             └───┘└───┘┌─┴─┐┌─┴─┐  │                                                 └───┘└───┘┌─┴─┐┌─┴─┐      ░                     └───┘└───┘┌─┴─┐┌─┴─┐  │                      └───┘└───┘┌─┴─┐┌─┴─┐ ░                               └───┘└───┘┌─┴─┐┌─┴─┐  │                      └───┘└───┘┌─┴─┐┌─┴─┐ ░            ║  ║  ║  ║ \n",
              "    c_3: ──────────────────────────────┤ X ├┤ X ├──■───────────────────────────────────────────────────────────┤ X ├┤ X ├──────░───────────────────────────────┤ X ├┤ X ├──■────────────────────────────────┤ X ├┤ X ├─░─────────────────────────────────────────┤ X ├┤ X ├──■────────────────────────────────┤ X ├┤ X ├─░────────────╫──╫──╫──╫─\n",
              "                                       └───┘└───┘┌─┴─┐┌──────────────────────────────┐                         └───┘└───┘      ░                               └───┘└───┘┌─┴─┐                              └───┘└───┘ ░                                         └───┘└───┘┌─┴─┐                              └───┘└───┘ ░            ║  ║  ║  ║ \n",
              "  saida: ────────────────────────────────────────┤ X ├┤ Initialize(0.70711,-0.70711) ├─────────────────────────────────────────░─────────────────────────────────────────┤ X ├─────────────────────────────────────────░───────────────────────────────────────────────────┤ X ├─────────────────────────────────────────░────────────╫──╫──╫──╫─\n",
              "                                                 └───┘└──────────────────────────────┘                                         ░                                         └───┘                                         ░                                                   └───┘                                         ░            ║  ║  ║  ║ \n",
              "cbits: 4/═════════════════════════════════════════════════════════════════════════════════════════════════════════════════════════════════════════════════════════════════════════════════════════════════════════════════════════════════════════════════════════════════════════════════════════════════════════════════════════════╩══╩══╩══╩═\n",
              "                                                                                                                                                                                                                                                                                                                                      0  1  2  3 </pre>"
            ]
          },
          "metadata": {},
          "execution_count": 9
        }
      ]
    },
    {
      "cell_type": "code",
      "source": [
        "# Simulando e plotando os resultados\n",
        "simulador = Aer.get_backend('aer_simulator')\n",
        "resultado = transpile(cq, simulador)\n",
        "qobj = assemble(resultado)\n",
        "result =simulador.run(qobj).result()\n",
        "plot_histogram(result.get_counts())"
      ],
      "metadata": {
        "colab": {
          "base_uri": "https://localhost:8080/",
          "height": 348
        },
        "id": "n6EMutiFSwhV",
        "outputId": "505cb3d7-8a45-4ec9-ea0e-e1af9f3ef41d"
      },
      "execution_count": 10,
      "outputs": [
        {
          "output_type": "execute_result",
          "data": {
            "text/plain": [
              "<Figure size 504x360 with 1 Axes>"
            ],
            "image/png": "[encoded data removed]"
          },
          "metadata": {},
          "execution_count": 10
        }
      ]
    }
  ]
}